{
  "nbformat": 4,
  "nbformat_minor": 0,
  "metadata": {
    "colab": {
      "provenance": [],
      "authorship_tag": "ABX9TyPIl6uH3yNbNJPQhyi/TxFa",
      "include_colab_link": true
    },
    "kernelspec": {
      "name": "python3",
      "display_name": "Python 3"
    },
    "language_info": {
      "name": "python"
    },
    "widgets": {
      "application/vnd.jupyter.widget-state+json": {
        "8f3150e41fd34640888e7b3c120b630a": {
          "model_module": "@jupyter-widgets/controls",
          "model_name": "TextModel",
          "model_module_version": "1.5.0",
          "state": {
            "_dom_classes": [],
            "_model_module": "@jupyter-widgets/controls",
            "_model_module_version": "1.5.0",
            "_model_name": "TextModel",
            "_view_count": null,
            "_view_module": "@jupyter-widgets/controls",
            "_view_module_version": "1.5.0",
            "_view_name": "TextView",
            "continuous_update": true,
            "description": "Stock 1:",
            "description_tooltip": null,
            "disabled": false,
            "layout": "IPY_MODEL_0efdcb28561f467baef550402c1f870b",
            "placeholder": "​",
            "style": "IPY_MODEL_1556010e72384d1e8128239c07c0e461",
            "value": "A"
          }
        },
        "0efdcb28561f467baef550402c1f870b": {
          "model_module": "@jupyter-widgets/base",
          "model_name": "LayoutModel",
          "model_module_version": "1.2.0",
          "state": {
            "_model_module": "@jupyter-widgets/base",
            "_model_module_version": "1.2.0",
            "_model_name": "LayoutModel",
            "_view_count": null,
            "_view_module": "@jupyter-widgets/base",
            "_view_module_version": "1.2.0",
            "_view_name": "LayoutView",
            "align_content": null,
            "align_items": null,
            "align_self": null,
            "border": null,
            "bottom": null,
            "display": null,
            "flex": null,
            "flex_flow": null,
            "grid_area": null,
            "grid_auto_columns": null,
            "grid_auto_flow": null,
            "grid_auto_rows": null,
            "grid_column": null,
            "grid_gap": null,
            "grid_row": null,
            "grid_template_areas": null,
            "grid_template_columns": null,
            "grid_template_rows": null,
            "height": null,
            "justify_content": null,
            "justify_items": null,
            "left": null,
            "margin": null,
            "max_height": null,
            "max_width": null,
            "min_height": null,
            "min_width": null,
            "object_fit": null,
            "object_position": null,
            "order": null,
            "overflow": null,
            "overflow_x": null,
            "overflow_y": null,
            "padding": null,
            "right": null,
            "top": null,
            "visibility": null,
            "width": null
          }
        },
        "1556010e72384d1e8128239c07c0e461": {
          "model_module": "@jupyter-widgets/controls",
          "model_name": "DescriptionStyleModel",
          "model_module_version": "1.5.0",
          "state": {
            "_model_module": "@jupyter-widgets/controls",
            "_model_module_version": "1.5.0",
            "_model_name": "DescriptionStyleModel",
            "_view_count": null,
            "_view_module": "@jupyter-widgets/base",
            "_view_module_version": "1.2.0",
            "_view_name": "StyleView",
            "description_width": ""
          }
        },
        "2cc00e59bf684e5286e49e639bfeacef": {
          "model_module": "@jupyter-widgets/controls",
          "model_name": "TextModel",
          "model_module_version": "1.5.0",
          "state": {
            "_dom_classes": [],
            "_model_module": "@jupyter-widgets/controls",
            "_model_module_version": "1.5.0",
            "_model_name": "TextModel",
            "_view_count": null,
            "_view_module": "@jupyter-widgets/controls",
            "_view_module_version": "1.5.0",
            "_view_name": "TextView",
            "continuous_update": true,
            "description": "Stock 2:",
            "description_tooltip": null,
            "disabled": false,
            "layout": "IPY_MODEL_6b389fe4699241d9832d0f2fada3ec1a",
            "placeholder": "​",
            "style": "IPY_MODEL_1a4b42df63e14bb5ba42cdbb5442d059",
            "value": "MSFT"
          }
        },
        "6b389fe4699241d9832d0f2fada3ec1a": {
          "model_module": "@jupyter-widgets/base",
          "model_name": "LayoutModel",
          "model_module_version": "1.2.0",
          "state": {
            "_model_module": "@jupyter-widgets/base",
            "_model_module_version": "1.2.0",
            "_model_name": "LayoutModel",
            "_view_count": null,
            "_view_module": "@jupyter-widgets/base",
            "_view_module_version": "1.2.0",
            "_view_name": "LayoutView",
            "align_content": null,
            "align_items": null,
            "align_self": null,
            "border": null,
            "bottom": null,
            "display": null,
            "flex": null,
            "flex_flow": null,
            "grid_area": null,
            "grid_auto_columns": null,
            "grid_auto_flow": null,
            "grid_auto_rows": null,
            "grid_column": null,
            "grid_gap": null,
            "grid_row": null,
            "grid_template_areas": null,
            "grid_template_columns": null,
            "grid_template_rows": null,
            "height": null,
            "justify_content": null,
            "justify_items": null,
            "left": null,
            "margin": null,
            "max_height": null,
            "max_width": null,
            "min_height": null,
            "min_width": null,
            "object_fit": null,
            "object_position": null,
            "order": null,
            "overflow": null,
            "overflow_x": null,
            "overflow_y": null,
            "padding": null,
            "right": null,
            "top": null,
            "visibility": null,
            "width": null
          }
        },
        "1a4b42df63e14bb5ba42cdbb5442d059": {
          "model_module": "@jupyter-widgets/controls",
          "model_name": "DescriptionStyleModel",
          "model_module_version": "1.5.0",
          "state": {
            "_model_module": "@jupyter-widgets/controls",
            "_model_module_version": "1.5.0",
            "_model_name": "DescriptionStyleModel",
            "_view_count": null,
            "_view_module": "@jupyter-widgets/base",
            "_view_module_version": "1.2.0",
            "_view_name": "StyleView",
            "description_width": ""
          }
        },
        "242e44f5431b4df7b211bce8e18b13ea": {
          "model_module": "@jupyter-widgets/controls",
          "model_name": "TextModel",
          "model_module_version": "1.5.0",
          "state": {
            "_dom_classes": [],
            "_model_module": "@jupyter-widgets/controls",
            "_model_module_version": "1.5.0",
            "_model_name": "TextModel",
            "_view_count": null,
            "_view_module": "@jupyter-widgets/controls",
            "_view_module_version": "1.5.0",
            "_view_name": "TextView",
            "continuous_update": true,
            "description": "Stock 3:",
            "description_tooltip": null,
            "disabled": false,
            "layout": "IPY_MODEL_a004778fce294dd7966b21585e2257c8",
            "placeholder": "​",
            "style": "IPY_MODEL_373f3350ca084b9c82fb0776e769a960",
            "value": "GOOGL"
          }
        },
        "a004778fce294dd7966b21585e2257c8": {
          "model_module": "@jupyter-widgets/base",
          "model_name": "LayoutModel",
          "model_module_version": "1.2.0",
          "state": {
            "_model_module": "@jupyter-widgets/base",
            "_model_module_version": "1.2.0",
            "_model_name": "LayoutModel",
            "_view_count": null,
            "_view_module": "@jupyter-widgets/base",
            "_view_module_version": "1.2.0",
            "_view_name": "LayoutView",
            "align_content": null,
            "align_items": null,
            "align_self": null,
            "border": null,
            "bottom": null,
            "display": null,
            "flex": null,
            "flex_flow": null,
            "grid_area": null,
            "grid_auto_columns": null,
            "grid_auto_flow": null,
            "grid_auto_rows": null,
            "grid_column": null,
            "grid_gap": null,
            "grid_row": null,
            "grid_template_areas": null,
            "grid_template_columns": null,
            "grid_template_rows": null,
            "height": null,
            "justify_content": null,
            "justify_items": null,
            "left": null,
            "margin": null,
            "max_height": null,
            "max_width": null,
            "min_height": null,
            "min_width": null,
            "object_fit": null,
            "object_position": null,
            "order": null,
            "overflow": null,
            "overflow_x": null,
            "overflow_y": null,
            "padding": null,
            "right": null,
            "top": null,
            "visibility": null,
            "width": null
          }
        },
        "373f3350ca084b9c82fb0776e769a960": {
          "model_module": "@jupyter-widgets/controls",
          "model_name": "DescriptionStyleModel",
          "model_module_version": "1.5.0",
          "state": {
            "_model_module": "@jupyter-widgets/controls",
            "_model_module_version": "1.5.0",
            "_model_name": "DescriptionStyleModel",
            "_view_count": null,
            "_view_module": "@jupyter-widgets/base",
            "_view_module_version": "1.2.0",
            "_view_name": "StyleView",
            "description_width": ""
          }
        },
        "ffe476114c5143f98f20df9489b6bc8a": {
          "model_module": "@jupyter-widgets/controls",
          "model_name": "VBoxModel",
          "model_module_version": "1.5.0",
          "state": {
            "_dom_classes": [
              "widget-interact"
            ],
            "_model_module": "@jupyter-widgets/controls",
            "_model_module_version": "1.5.0",
            "_model_name": "VBoxModel",
            "_view_count": null,
            "_view_module": "@jupyter-widgets/controls",
            "_view_module_version": "1.5.0",
            "_view_name": "VBoxView",
            "box_style": "",
            "children": [
              "IPY_MODEL_8f3150e41fd34640888e7b3c120b630a",
              "IPY_MODEL_2cc00e59bf684e5286e49e639bfeacef",
              "IPY_MODEL_242e44f5431b4df7b211bce8e18b13ea",
              "IPY_MODEL_a2802b1fbf884a8697b8f20f9c0fbb66"
            ],
            "layout": "IPY_MODEL_cf1f5999fc1548158c1b1e45f80eec0d"
          }
        },
        "a2802b1fbf884a8697b8f20f9c0fbb66": {
          "model_module": "@jupyter-widgets/output",
          "model_name": "OutputModel",
          "model_module_version": "1.0.0",
          "state": {
            "_dom_classes": [],
            "_model_module": "@jupyter-widgets/output",
            "_model_module_version": "1.0.0",
            "_model_name": "OutputModel",
            "_view_count": null,
            "_view_module": "@jupyter-widgets/output",
            "_view_module_version": "1.0.0",
            "_view_name": "OutputView",
            "layout": "IPY_MODEL_7cbf1f9d74e348b199ad000bc04602f1",
            "msg_id": "",
            "outputs": [
              {
                "output_type": "display_data",
                "data": {
                  "text/plain": "<Figure size 1200x600 with 1 Axes>",
                  "image/png": "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\n"
                },
                "metadata": {}
              }
            ]
          }
        },
        "cf1f5999fc1548158c1b1e45f80eec0d": {
          "model_module": "@jupyter-widgets/base",
          "model_name": "LayoutModel",
          "model_module_version": "1.2.0",
          "state": {
            "_model_module": "@jupyter-widgets/base",
            "_model_module_version": "1.2.0",
            "_model_name": "LayoutModel",
            "_view_count": null,
            "_view_module": "@jupyter-widgets/base",
            "_view_module_version": "1.2.0",
            "_view_name": "LayoutView",
            "align_content": null,
            "align_items": null,
            "align_self": null,
            "border": null,
            "bottom": null,
            "display": null,
            "flex": null,
            "flex_flow": null,
            "grid_area": null,
            "grid_auto_columns": null,
            "grid_auto_flow": null,
            "grid_auto_rows": null,
            "grid_column": null,
            "grid_gap": null,
            "grid_row": null,
            "grid_template_areas": null,
            "grid_template_columns": null,
            "grid_template_rows": null,
            "height": null,
            "justify_content": null,
            "justify_items": null,
            "left": null,
            "margin": null,
            "max_height": null,
            "max_width": null,
            "min_height": null,
            "min_width": null,
            "object_fit": null,
            "object_position": null,
            "order": null,
            "overflow": null,
            "overflow_x": null,
            "overflow_y": null,
            "padding": null,
            "right": null,
            "top": null,
            "visibility": null,
            "width": null
          }
        },
        "7cbf1f9d74e348b199ad000bc04602f1": {
          "model_module": "@jupyter-widgets/base",
          "model_name": "LayoutModel",
          "model_module_version": "1.2.0",
          "state": {
            "_model_module": "@jupyter-widgets/base",
            "_model_module_version": "1.2.0",
            "_model_name": "LayoutModel",
            "_view_count": null,
            "_view_module": "@jupyter-widgets/base",
            "_view_module_version": "1.2.0",
            "_view_name": "LayoutView",
            "align_content": null,
            "align_items": null,
            "align_self": null,
            "border": null,
            "bottom": null,
            "display": null,
            "flex": null,
            "flex_flow": null,
            "grid_area": null,
            "grid_auto_columns": null,
            "grid_auto_flow": null,
            "grid_auto_rows": null,
            "grid_column": null,
            "grid_gap": null,
            "grid_row": null,
            "grid_template_areas": null,
            "grid_template_columns": null,
            "grid_template_rows": null,
            "height": null,
            "justify_content": null,
            "justify_items": null,
            "left": null,
            "margin": null,
            "max_height": null,
            "max_width": null,
            "min_height": null,
            "min_width": null,
            "object_fit": null,
            "object_position": null,
            "order": null,
            "overflow": null,
            "overflow_x": null,
            "overflow_y": null,
            "padding": null,
            "right": null,
            "top": null,
            "visibility": null,
            "width": null
          }
        }
      }
    }
  },
  "cells": [
    {
      "cell_type": "markdown",
      "metadata": {
        "id": "view-in-github",
        "colab_type": "text"
      },
      "source": [
        "<a href=\"https://colab.research.google.com/github/jmmzhng-pro/DSCI_632_Project/blob/main/Stock_Widget_for_Visualization.ipynb\" target=\"_parent\"><img src=\"https://colab.research.google.com/assets/colab-badge.svg\" alt=\"Open In Colab\"/></a>"
      ]
    },
    {
      "cell_type": "code",
      "execution_count": null,
      "metadata": {
        "colab": {
          "base_uri": "https://localhost:8080/"
        },
        "id": "in7HJm6thjj7",
        "outputId": "78ee91b7-0a2c-4676-f467-e00e249877c3"
      },
      "outputs": [
        {
          "output_type": "stream",
          "name": "stdout",
          "text": [
            "Requirement already satisfied: ipywidgets in /usr/local/lib/python3.10/dist-packages (7.7.1)\n",
            "Requirement already satisfied: matplotlib in /usr/local/lib/python3.10/dist-packages (3.7.1)\n",
            "Requirement already satisfied: pandas in /usr/local/lib/python3.10/dist-packages (1.5.3)\n",
            "Requirement already satisfied: yfinance in /usr/local/lib/python3.10/dist-packages (0.2.31)\n",
            "Requirement already satisfied: ipykernel>=4.5.1 in /usr/local/lib/python3.10/dist-packages (from ipywidgets) (5.5.6)\n",
            "Requirement already satisfied: ipython-genutils~=0.2.0 in /usr/local/lib/python3.10/dist-packages (from ipywidgets) (0.2.0)\n",
            "Requirement already satisfied: traitlets>=4.3.1 in /usr/local/lib/python3.10/dist-packages (from ipywidgets) (5.7.1)\n",
            "Requirement already satisfied: widgetsnbextension~=3.6.0 in /usr/local/lib/python3.10/dist-packages (from ipywidgets) (3.6.6)\n",
            "Requirement already satisfied: ipython>=4.0.0 in /usr/local/lib/python3.10/dist-packages (from ipywidgets) (7.34.0)\n",
            "Requirement already satisfied: jupyterlab-widgets>=1.0.0 in /usr/local/lib/python3.10/dist-packages (from ipywidgets) (3.0.9)\n",
            "Requirement already satisfied: contourpy>=1.0.1 in /usr/local/lib/python3.10/dist-packages (from matplotlib) (1.2.0)\n",
            "Requirement already satisfied: cycler>=0.10 in /usr/local/lib/python3.10/dist-packages (from matplotlib) (0.12.1)\n",
            "Requirement already satisfied: fonttools>=4.22.0 in /usr/local/lib/python3.10/dist-packages (from matplotlib) (4.44.3)\n",
            "Requirement already satisfied: kiwisolver>=1.0.1 in /usr/local/lib/python3.10/dist-packages (from matplotlib) (1.4.5)\n",
            "Requirement already satisfied: numpy>=1.20 in /usr/local/lib/python3.10/dist-packages (from matplotlib) (1.23.5)\n",
            "Requirement already satisfied: packaging>=20.0 in /usr/local/lib/python3.10/dist-packages (from matplotlib) (23.2)\n",
            "Requirement already satisfied: pillow>=6.2.0 in /usr/local/lib/python3.10/dist-packages (from matplotlib) (9.4.0)\n",
            "Requirement already satisfied: pyparsing>=2.3.1 in /usr/local/lib/python3.10/dist-packages (from matplotlib) (3.1.1)\n",
            "Requirement already satisfied: python-dateutil>=2.7 in /usr/local/lib/python3.10/dist-packages (from matplotlib) (2.8.2)\n",
            "Requirement already satisfied: pytz>=2020.1 in /usr/local/lib/python3.10/dist-packages (from pandas) (2023.3.post1)\n",
            "Requirement already satisfied: requests>=2.31 in /usr/local/lib/python3.10/dist-packages (from yfinance) (2.31.0)\n",
            "Requirement already satisfied: multitasking>=0.0.7 in /usr/local/lib/python3.10/dist-packages (from yfinance) (0.0.11)\n",
            "Requirement already satisfied: lxml>=4.9.1 in /usr/local/lib/python3.10/dist-packages (from yfinance) (4.9.3)\n",
            "Requirement already satisfied: appdirs>=1.4.4 in /usr/local/lib/python3.10/dist-packages (from yfinance) (1.4.4)\n",
            "Requirement already satisfied: frozendict>=2.3.4 in /usr/local/lib/python3.10/dist-packages (from yfinance) (2.3.8)\n",
            "Requirement already satisfied: peewee>=3.16.2 in /usr/local/lib/python3.10/dist-packages (from yfinance) (3.17.0)\n",
            "Requirement already satisfied: beautifulsoup4>=4.11.1 in /usr/local/lib/python3.10/dist-packages (from yfinance) (4.11.2)\n",
            "Requirement already satisfied: html5lib>=1.1 in /usr/local/lib/python3.10/dist-packages (from yfinance) (1.1)\n",
            "Requirement already satisfied: soupsieve>1.2 in /usr/local/lib/python3.10/dist-packages (from beautifulsoup4>=4.11.1->yfinance) (2.5)\n",
            "Requirement already satisfied: six>=1.9 in /usr/local/lib/python3.10/dist-packages (from html5lib>=1.1->yfinance) (1.16.0)\n",
            "Requirement already satisfied: webencodings in /usr/local/lib/python3.10/dist-packages (from html5lib>=1.1->yfinance) (0.5.1)\n",
            "Requirement already satisfied: jupyter-client in /usr/local/lib/python3.10/dist-packages (from ipykernel>=4.5.1->ipywidgets) (6.1.12)\n",
            "Requirement already satisfied: tornado>=4.2 in /usr/local/lib/python3.10/dist-packages (from ipykernel>=4.5.1->ipywidgets) (6.3.2)\n",
            "Requirement already satisfied: setuptools>=18.5 in /usr/local/lib/python3.10/dist-packages (from ipython>=4.0.0->ipywidgets) (67.7.2)\n",
            "Collecting jedi>=0.16 (from ipython>=4.0.0->ipywidgets)\n",
            "  Downloading jedi-0.19.1-py2.py3-none-any.whl (1.6 MB)\n",
            "\u001b[2K     \u001b[90m━━━━━━━━━━━━━━━━━━━━━━━━━━━━━━━━━━━━━━━━\u001b[0m \u001b[32m1.6/1.6 MB\u001b[0m \u001b[31m12.7 MB/s\u001b[0m eta \u001b[36m0:00:00\u001b[0m\n",
            "\u001b[?25hRequirement already satisfied: decorator in /usr/local/lib/python3.10/dist-packages (from ipython>=4.0.0->ipywidgets) (4.4.2)\n",
            "Requirement already satisfied: pickleshare in /usr/local/lib/python3.10/dist-packages (from ipython>=4.0.0->ipywidgets) (0.7.5)\n",
            "Requirement already satisfied: prompt-toolkit!=3.0.0,!=3.0.1,<3.1.0,>=2.0.0 in /usr/local/lib/python3.10/dist-packages (from ipython>=4.0.0->ipywidgets) (3.0.41)\n",
            "Requirement already satisfied: pygments in /usr/local/lib/python3.10/dist-packages (from ipython>=4.0.0->ipywidgets) (2.16.1)\n",
            "Requirement already satisfied: backcall in /usr/local/lib/python3.10/dist-packages (from ipython>=4.0.0->ipywidgets) (0.2.0)\n",
            "Requirement already satisfied: matplotlib-inline in /usr/local/lib/python3.10/dist-packages (from ipython>=4.0.0->ipywidgets) (0.1.6)\n",
            "Requirement already satisfied: pexpect>4.3 in /usr/local/lib/python3.10/dist-packages (from ipython>=4.0.0->ipywidgets) (4.8.0)\n",
            "Requirement already satisfied: charset-normalizer<4,>=2 in /usr/local/lib/python3.10/dist-packages (from requests>=2.31->yfinance) (3.3.2)\n",
            "Requirement already satisfied: idna<4,>=2.5 in /usr/local/lib/python3.10/dist-packages (from requests>=2.31->yfinance) (3.4)\n",
            "Requirement already satisfied: urllib3<3,>=1.21.1 in /usr/local/lib/python3.10/dist-packages (from requests>=2.31->yfinance) (2.0.7)\n",
            "Requirement already satisfied: certifi>=2017.4.17 in /usr/local/lib/python3.10/dist-packages (from requests>=2.31->yfinance) (2023.7.22)\n",
            "Requirement already satisfied: notebook>=4.4.1 in /usr/local/lib/python3.10/dist-packages (from widgetsnbextension~=3.6.0->ipywidgets) (6.5.5)\n",
            "Requirement already satisfied: parso<0.9.0,>=0.8.3 in /usr/local/lib/python3.10/dist-packages (from jedi>=0.16->ipython>=4.0.0->ipywidgets) (0.8.3)\n",
            "Requirement already satisfied: jinja2 in /usr/local/lib/python3.10/dist-packages (from notebook>=4.4.1->widgetsnbextension~=3.6.0->ipywidgets) (3.1.2)\n",
            "Requirement already satisfied: pyzmq<25,>=17 in /usr/local/lib/python3.10/dist-packages (from notebook>=4.4.1->widgetsnbextension~=3.6.0->ipywidgets) (23.2.1)\n",
            "Requirement already satisfied: argon2-cffi in /usr/local/lib/python3.10/dist-packages (from notebook>=4.4.1->widgetsnbextension~=3.6.0->ipywidgets) (23.1.0)\n",
            "Requirement already satisfied: jupyter-core>=4.6.1 in /usr/local/lib/python3.10/dist-packages (from notebook>=4.4.1->widgetsnbextension~=3.6.0->ipywidgets) (5.5.0)\n",
            "Requirement already satisfied: nbformat in /usr/local/lib/python3.10/dist-packages (from notebook>=4.4.1->widgetsnbextension~=3.6.0->ipywidgets) (5.9.2)\n",
            "Requirement already satisfied: nbconvert>=5 in /usr/local/lib/python3.10/dist-packages (from notebook>=4.4.1->widgetsnbextension~=3.6.0->ipywidgets) (6.5.4)\n",
            "Requirement already satisfied: nest-asyncio>=1.5 in /usr/local/lib/python3.10/dist-packages (from notebook>=4.4.1->widgetsnbextension~=3.6.0->ipywidgets) (1.5.8)\n",
            "Requirement already satisfied: Send2Trash>=1.8.0 in /usr/local/lib/python3.10/dist-packages (from notebook>=4.4.1->widgetsnbextension~=3.6.0->ipywidgets) (1.8.2)\n",
            "Requirement already satisfied: terminado>=0.8.3 in /usr/local/lib/python3.10/dist-packages (from notebook>=4.4.1->widgetsnbextension~=3.6.0->ipywidgets) (0.18.0)\n",
            "Requirement already satisfied: prometheus-client in /usr/local/lib/python3.10/dist-packages (from notebook>=4.4.1->widgetsnbextension~=3.6.0->ipywidgets) (0.18.0)\n",
            "Requirement already satisfied: nbclassic>=0.4.7 in /usr/local/lib/python3.10/dist-packages (from notebook>=4.4.1->widgetsnbextension~=3.6.0->ipywidgets) (1.0.0)\n",
            "Requirement already satisfied: ptyprocess>=0.5 in /usr/local/lib/python3.10/dist-packages (from pexpect>4.3->ipython>=4.0.0->ipywidgets) (0.7.0)\n",
            "Requirement already satisfied: wcwidth in /usr/local/lib/python3.10/dist-packages (from prompt-toolkit!=3.0.0,!=3.0.1,<3.1.0,>=2.0.0->ipython>=4.0.0->ipywidgets) (0.2.10)\n",
            "Requirement already satisfied: platformdirs>=2.5 in /usr/local/lib/python3.10/dist-packages (from jupyter-core>=4.6.1->notebook>=4.4.1->widgetsnbextension~=3.6.0->ipywidgets) (4.0.0)\n",
            "Requirement already satisfied: jupyter-server>=1.8 in /usr/local/lib/python3.10/dist-packages (from nbclassic>=0.4.7->notebook>=4.4.1->widgetsnbextension~=3.6.0->ipywidgets) (1.24.0)\n",
            "Requirement already satisfied: notebook-shim>=0.2.3 in /usr/local/lib/python3.10/dist-packages (from nbclassic>=0.4.7->notebook>=4.4.1->widgetsnbextension~=3.6.0->ipywidgets) (0.2.3)\n",
            "Requirement already satisfied: bleach in /usr/local/lib/python3.10/dist-packages (from nbconvert>=5->notebook>=4.4.1->widgetsnbextension~=3.6.0->ipywidgets) (6.1.0)\n",
            "Requirement already satisfied: defusedxml in /usr/local/lib/python3.10/dist-packages (from nbconvert>=5->notebook>=4.4.1->widgetsnbextension~=3.6.0->ipywidgets) (0.7.1)\n",
            "Requirement already satisfied: entrypoints>=0.2.2 in /usr/local/lib/python3.10/dist-packages (from nbconvert>=5->notebook>=4.4.1->widgetsnbextension~=3.6.0->ipywidgets) (0.4)\n",
            "Requirement already satisfied: jupyterlab-pygments in /usr/local/lib/python3.10/dist-packages (from nbconvert>=5->notebook>=4.4.1->widgetsnbextension~=3.6.0->ipywidgets) (0.2.2)\n",
            "Requirement already satisfied: MarkupSafe>=2.0 in /usr/local/lib/python3.10/dist-packages (from nbconvert>=5->notebook>=4.4.1->widgetsnbextension~=3.6.0->ipywidgets) (2.1.3)\n",
            "Requirement already satisfied: mistune<2,>=0.8.1 in /usr/local/lib/python3.10/dist-packages (from nbconvert>=5->notebook>=4.4.1->widgetsnbextension~=3.6.0->ipywidgets) (0.8.4)\n",
            "Requirement already satisfied: nbclient>=0.5.0 in /usr/local/lib/python3.10/dist-packages (from nbconvert>=5->notebook>=4.4.1->widgetsnbextension~=3.6.0->ipywidgets) (0.9.0)\n",
            "Requirement already satisfied: pandocfilters>=1.4.1 in /usr/local/lib/python3.10/dist-packages (from nbconvert>=5->notebook>=4.4.1->widgetsnbextension~=3.6.0->ipywidgets) (1.5.0)\n",
            "Requirement already satisfied: tinycss2 in /usr/local/lib/python3.10/dist-packages (from nbconvert>=5->notebook>=4.4.1->widgetsnbextension~=3.6.0->ipywidgets) (1.2.1)\n",
            "Requirement already satisfied: fastjsonschema in /usr/local/lib/python3.10/dist-packages (from nbformat->notebook>=4.4.1->widgetsnbextension~=3.6.0->ipywidgets) (2.19.0)\n",
            "Requirement already satisfied: jsonschema>=2.6 in /usr/local/lib/python3.10/dist-packages (from nbformat->notebook>=4.4.1->widgetsnbextension~=3.6.0->ipywidgets) (4.19.2)\n",
            "Requirement already satisfied: argon2-cffi-bindings in /usr/local/lib/python3.10/dist-packages (from argon2-cffi->notebook>=4.4.1->widgetsnbextension~=3.6.0->ipywidgets) (21.2.0)\n",
            "Requirement already satisfied: attrs>=22.2.0 in /usr/local/lib/python3.10/dist-packages (from jsonschema>=2.6->nbformat->notebook>=4.4.1->widgetsnbextension~=3.6.0->ipywidgets) (23.1.0)\n",
            "Requirement already satisfied: jsonschema-specifications>=2023.03.6 in /usr/local/lib/python3.10/dist-packages (from jsonschema>=2.6->nbformat->notebook>=4.4.1->widgetsnbextension~=3.6.0->ipywidgets) (2023.11.1)\n",
            "Requirement already satisfied: referencing>=0.28.4 in /usr/local/lib/python3.10/dist-packages (from jsonschema>=2.6->nbformat->notebook>=4.4.1->widgetsnbextension~=3.6.0->ipywidgets) (0.31.0)\n",
            "Requirement already satisfied: rpds-py>=0.7.1 in /usr/local/lib/python3.10/dist-packages (from jsonschema>=2.6->nbformat->notebook>=4.4.1->widgetsnbextension~=3.6.0->ipywidgets) (0.12.0)\n",
            "Requirement already satisfied: anyio<4,>=3.1.0 in /usr/local/lib/python3.10/dist-packages (from jupyter-server>=1.8->nbclassic>=0.4.7->notebook>=4.4.1->widgetsnbextension~=3.6.0->ipywidgets) (3.7.1)\n",
            "Requirement already satisfied: websocket-client in /usr/local/lib/python3.10/dist-packages (from jupyter-server>=1.8->nbclassic>=0.4.7->notebook>=4.4.1->widgetsnbextension~=3.6.0->ipywidgets) (1.6.4)\n",
            "Requirement already satisfied: cffi>=1.0.1 in /usr/local/lib/python3.10/dist-packages (from argon2-cffi-bindings->argon2-cffi->notebook>=4.4.1->widgetsnbextension~=3.6.0->ipywidgets) (1.16.0)\n",
            "Requirement already satisfied: sniffio>=1.1 in /usr/local/lib/python3.10/dist-packages (from anyio<4,>=3.1.0->jupyter-server>=1.8->nbclassic>=0.4.7->notebook>=4.4.1->widgetsnbextension~=3.6.0->ipywidgets) (1.3.0)\n",
            "Requirement already satisfied: exceptiongroup in /usr/local/lib/python3.10/dist-packages (from anyio<4,>=3.1.0->jupyter-server>=1.8->nbclassic>=0.4.7->notebook>=4.4.1->widgetsnbextension~=3.6.0->ipywidgets) (1.1.3)\n",
            "Requirement already satisfied: pycparser in /usr/local/lib/python3.10/dist-packages (from cffi>=1.0.1->argon2-cffi-bindings->argon2-cffi->notebook>=4.4.1->widgetsnbextension~=3.6.0->ipywidgets) (2.21)\n",
            "Installing collected packages: jedi\n",
            "Successfully installed jedi-0.19.1\n"
          ]
        }
      ],
      "source": [
        "pip install ipywidgets matplotlib pandas yfinance"
      ]
    },
    {
      "cell_type": "code",
      "source": [
        "import yfinance as yf\n",
        "\n",
        "def download_stock_data(ticker, start='2008-01-01', end='2023-01-01'):\n",
        "    data = yf.Ticker(ticker).history(start=start, end=end)\n",
        "    return data"
      ],
      "metadata": {
        "id": "ShOvgQhPhrZ6"
      },
      "execution_count": null,
      "outputs": []
    },
    {
      "cell_type": "code",
      "source": [
        "import ipywidgets as widgets\n",
        "from IPython.display import display\n",
        "\n",
        "# Create the input widgets for stock symbols\n",
        "stock_input1 = widgets.Text(value='AAPL', description='Stock 1:', disabled=False)\n",
        "stock_input2 = widgets.Text(value='MSFT', description='Stock 2:', disabled=False)\n",
        "stock_input3 = widgets.Text(value='GOOGL', description='Stock 3:', disabled=False)\n",
        "\n",
        "# Display widgets\n",
        "display(stock_input1, stock_input2, stock_input3)"
      ],
      "metadata": {
        "colab": {
          "base_uri": "https://localhost:8080/",
          "height": 109,
          "referenced_widgets": [
            "8f3150e41fd34640888e7b3c120b630a",
            "0efdcb28561f467baef550402c1f870b",
            "1556010e72384d1e8128239c07c0e461",
            "2cc00e59bf684e5286e49e639bfeacef",
            "6b389fe4699241d9832d0f2fada3ec1a",
            "1a4b42df63e14bb5ba42cdbb5442d059",
            "242e44f5431b4df7b211bce8e18b13ea",
            "a004778fce294dd7966b21585e2257c8",
            "373f3350ca084b9c82fb0776e769a960"
          ]
        },
        "id": "dx_tgJgJhvjc",
        "outputId": "f33d68d1-b939-4ec0-9b74-870e44a08e43"
      },
      "execution_count": null,
      "outputs": [
        {
          "output_type": "display_data",
          "data": {
            "text/plain": [
              "Text(value='AAPL', description='Stock 1:')"
            ],
            "application/vnd.jupyter.widget-view+json": {
              "version_major": 2,
              "version_minor": 0,
              "model_id": "8f3150e41fd34640888e7b3c120b630a"
            }
          },
          "metadata": {}
        },
        {
          "output_type": "display_data",
          "data": {
            "text/plain": [
              "Text(value='MSFT', description='Stock 2:')"
            ],
            "application/vnd.jupyter.widget-view+json": {
              "version_major": 2,
              "version_minor": 0,
              "model_id": "2cc00e59bf684e5286e49e639bfeacef"
            }
          },
          "metadata": {}
        },
        {
          "output_type": "display_data",
          "data": {
            "text/plain": [
              "Text(value='GOOGL', description='Stock 3:')"
            ],
            "application/vnd.jupyter.widget-view+json": {
              "version_major": 2,
              "version_minor": 0,
              "model_id": "242e44f5431b4df7b211bce8e18b13ea"
            }
          },
          "metadata": {}
        }
      ]
    },
    {
      "cell_type": "code",
      "source": [
        "import matplotlib.pyplot as plt\n",
        "\n",
        "def plot_stock_comparison(stock1, stock2, stock3):\n",
        "    data1 = download_stock_data(stock1)\n",
        "    data2 = download_stock_data(stock2)\n",
        "    data3 = download_stock_data(stock3)\n",
        "\n",
        "    plt.figure(figsize=(12, 6))\n",
        "    plt.plot(data1['Close'] / data1['Close'].iloc[0], label=f'{stock1} (Normalized)')\n",
        "    plt.plot(data2['Close'] / data2['Close'].iloc[0], label=f'{stock2} (Normalized)')\n",
        "    plt.plot(data2['Close'] / data3['Close'].iloc[0], label=f'{stock2} (Normalized)')\n",
        "    plt.title(f'Comparative Stock Performance: {stock1} vs {stock2} vs {stock3}')\n",
        "    plt.xlabel('Date')\n",
        "    plt.ylabel('Normalized Price')\n",
        "    plt.legend()\n",
        "    plt.show()"
      ],
      "metadata": {
        "id": "-1SBz-EGh10b"
      },
      "execution_count": null,
      "outputs": []
    },
    {
      "cell_type": "code",
      "source": [
        "from ipywidgets import interact\n",
        "\n",
        "# Function to handle the interaction\n",
        "def handle_interactive_plot(stock1, stock2, stock3):\n",
        "    plot_stock_comparison(stock1, stock2, stock3)\n",
        "\n",
        "# Linking the widgets with the plot function\n",
        "interact(handle_interactive_plot, stock1=stock_input1, stock2=stock_input2, stock3=stock_input3)"
      ],
      "metadata": {
        "colab": {
          "base_uri": "https://localhost:8080/",
          "height": 678,
          "referenced_widgets": [
            "ffe476114c5143f98f20df9489b6bc8a",
            "8f3150e41fd34640888e7b3c120b630a",
            "2cc00e59bf684e5286e49e639bfeacef",
            "242e44f5431b4df7b211bce8e18b13ea",
            "a2802b1fbf884a8697b8f20f9c0fbb66",
            "cf1f5999fc1548158c1b1e45f80eec0d",
            "0efdcb28561f467baef550402c1f870b",
            "1556010e72384d1e8128239c07c0e461",
            "6b389fe4699241d9832d0f2fada3ec1a",
            "1a4b42df63e14bb5ba42cdbb5442d059",
            "a004778fce294dd7966b21585e2257c8",
            "373f3350ca084b9c82fb0776e769a960",
            "7cbf1f9d74e348b199ad000bc04602f1"
          ]
        },
        "id": "MzqAEHPeh6zb",
        "outputId": "d7cba724-cb73-4b76-e57a-f6ebc9399bc6"
      },
      "execution_count": null,
      "outputs": [
        {
          "output_type": "display_data",
          "data": {
            "text/plain": [
              "interactive(children=(Text(value='AAPL', description='Stock 1:'), Text(value='MSFT', description='Stock 2:'), …"
            ],
            "application/vnd.jupyter.widget-view+json": {
              "version_major": 2,
              "version_minor": 0,
              "model_id": "ffe476114c5143f98f20df9489b6bc8a"
            }
          },
          "metadata": {}
        },
        {
          "output_type": "execute_result",
          "data": {
            "text/plain": [
              "<function __main__.handle_interactive_plot(stock1, stock2, stock3)>"
            ]
          },
          "metadata": {},
          "execution_count": 4
        }
      ]
    }
  ]
}